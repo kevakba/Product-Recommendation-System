{
 "cells": [
  {
   "cell_type": "markdown",
   "id": "b38910fa",
   "metadata": {
    "id": "b38910fa"
   },
   "source": [
    "## Final prediction"
   ]
  },
  {
   "cell_type": "code",
   "execution_count": 79,
   "id": "dafed8d5",
   "metadata": {
    "colab": {
     "base_uri": "https://localhost:8080/"
    },
    "id": "dafed8d5",
    "outputId": "3764f050-306a-480e-afcf-a038a46923e9"
   },
   "outputs": [
    {
     "data": {
      "text/plain": [
       "name\n",
       "Noosa Honey Yogurt                                                                3.300832\n",
       "Progresso Traditional Chicken Rice With Vegetables Soup                           3.300832\n",
       "Olivella Bar Soap - 3.52 Oz                                                       3.053782\n",
       "Wagan Smartac 80watt Inverter With Usb                                            2.487549\n",
       "Chips Deluxe Soft 'n Chewy Cookies                                                2.406728\n",
       "Naturtint Nutrideep Multiplier Protective Cream                                   2.036149\n",
       "Batherapy Natural Mineral Bath Sport Liquid, 16 oz                                2.028375\n",
       "Beanitos Bean Chips, Simply Pinto Bean                                            1.988915\n",
       "Various - Country's Greatest Gospel:Gold Ed (cd)                                  1.978176\n",
       "Newman's Own Organics Licorice Twist, Black 5oz                                   1.911627\n",
       "Ceiling Fan With Light White 14.2 X 29.9 X 9.2 - Hunter Fan                       1.811022\n",
       "Cetaphil Gentle Skin Cleanser, 2oz                                                1.782032\n",
       "D-Con Mice Bait Station - 3ct                                                     1.732722\n",
       "Sea Gull Lighting Six Light Bath Sconce/vanity - Brushed Nickel                   1.669726\n",
       "Cantu Coconut Milk Shine Hold Mist - 8oz                                          1.598949\n",
       "Lynk Professional174 Pull Out Cutting Board Bakeware Sliding Cabinet Organizer    1.590035\n",
       "Nearly Natural 5.5' Bamboo W/decorative Planter                                   1.576870\n",
       "Scooby Doo And The Loch Ness Monster (blu-Ray)                                    1.519529\n",
       "Romantic Drama: Greatest Classic Films Collection 2 Discs                         1.506798\n",
       "Cococare 100% Natural Castor Oil                                                  1.463843\n",
       "Name: 02deuce, dtype: float64"
      ]
     },
     "execution_count": 79,
     "metadata": {},
     "output_type": "execute_result"
    }
   ],
   "source": [
    "user_input = '02deuce'  #sample case \n",
    "\n",
    "d = user_final_rating.loc[user_input].sort_values(ascending=False)[0:20]\n",
    "d"
   ]
  },
  {
   "cell_type": "code",
   "execution_count": 80,
   "id": "f835ae23",
   "metadata": {
    "id": "f835ae23"
   },
   "outputs": [],
   "source": [
    "mean_sentiment_score_ = []\n",
    "for product in d.index:\n",
    "    prod_score = 0\n",
    "    total_reviews_per_product = float(len(df_main[(df_main.name==product)].index))\n",
    "    for indx in df_main[(df_main.name==product)].index.tolist():\n",
    "        # let's do exception handling as we have droppped few rows as well\n",
    "        try:\n",
    "            inp = vectorizer.transform([df_main['text_concat'][indx]]).toarray()\n",
    "            senti_prediction = float(lr_model_final.predict(inp))\n",
    "            prod_score+=senti_prediction\n",
    "        except:\n",
    "            pass\n",
    "    mean_sentiment_score_.append((product,prod_score/ total_reviews_per_product))"
   ]
  },
  {
   "cell_type": "code",
   "execution_count": 81,
   "id": "9c293334",
   "metadata": {
    "colab": {
     "base_uri": "https://localhost:8080/"
    },
    "id": "9c293334",
    "outputId": "2414d5ea-7811-4b7e-f8f6-9f61fa6b5491"
   },
   "outputs": [
    {
     "data": {
      "text/plain": [
       "[('Noosa Honey Yogurt', 1.0),\n",
       " ('Progresso Traditional Chicken Rice With Vegetables Soup', 0.0),\n",
       " ('Olivella Bar Soap - 3.52 Oz', 0.6666666666666666),\n",
       " ('Wagan Smartac 80watt Inverter With Usb', 0.8),\n",
       " (\"Chips Deluxe Soft 'n Chewy Cookies\", 1.0),\n",
       " ('Naturtint Nutrideep Multiplier Protective Cream', 1.0),\n",
       " ('Batherapy Natural Mineral Bath Sport Liquid, 16 oz', 0.5),\n",
       " ('Beanitos Bean Chips, Simply Pinto Bean', 0.75),\n",
       " (\"Various - Country's Greatest Gospel:Gold Ed (cd)\", 1.0),\n",
       " (\"Newman's Own Organics Licorice Twist, Black 5oz\", 0.8333333333333334),\n",
       " ('Ceiling Fan With Light White 14.2 X 29.9 X 9.2 - Hunter Fan', 1.0),\n",
       " ('Cetaphil Gentle Skin Cleanser, 2oz', 1.0),\n",
       " ('D-Con Mice Bait Station - 3ct', 0.8571428571428571),\n",
       " ('Sea Gull Lighting Six Light Bath Sconce/vanity - Brushed Nickel', 1.0),\n",
       " ('Cantu Coconut Milk Shine Hold Mist - 8oz', 0.75),\n",
       " ('Lynk Professional174 Pull Out Cutting Board Bakeware Sliding Cabinet Organizer',\n",
       "  1.0),\n",
       " (\"Nearly Natural 5.5' Bamboo W/decorative Planter\", 1.0),\n",
       " ('Scooby Doo And The Loch Ness Monster (blu-Ray)', 1.0),\n",
       " ('Romantic Drama: Greatest Classic Films Collection 2 Discs', 0.75),\n",
       " ('Cococare 100% Natural Castor Oil', 0.6666666666666666)]"
      ]
     },
     "execution_count": 81,
     "metadata": {},
     "output_type": "execute_result"
    }
   ],
   "source": [
    "mean_sentiment_score_"
   ]
  },
  {
   "cell_type": "code",
   "execution_count": 82,
   "id": "de529ca4",
   "metadata": {
    "colab": {
     "base_uri": "https://localhost:8080/"
    },
    "id": "de529ca4",
    "outputId": "59489c65-00c2-4029-8d46-164e63731c38"
   },
   "outputs": [
    {
     "name": "stdout",
     "output_type": "stream",
     "text": [
      "Top 5 recommendations for username 02deuce are as under:\n"
     ]
    },
    {
     "data": {
      "text/plain": [
       "['Noosa Honey Yogurt',\n",
       " \"Chips Deluxe Soft 'n Chewy Cookies\",\n",
       " 'Naturtint Nutrideep Multiplier Protective Cream',\n",
       " \"Various - Country's Greatest Gospel:Gold Ed (cd)\",\n",
       " 'Ceiling Fan With Light White 14.2 X 29.9 X 9.2 - Hunter Fan']"
      ]
     },
     "execution_count": 82,
     "metadata": {},
     "output_type": "execute_result"
    }
   ],
   "source": [
    "print('Top 5 recommendations for username %s are as under:'%user_input)\n",
    "[i[0] for i in sorted(mean_sentiment_score_, key = lambda x: x[1], reverse=True)[:5]]"
   ]
  },
  {
   "cell_type": "markdown",
   "id": "faa2ca7c",
   "metadata": {
    "id": "faa2ca7c"
   },
   "source": [
    "---------------------------------------------------------------------------------------------------------------"
   ]
  }
 ],
 "metadata": {
  "colab": {
   "collapsed_sections": [],
   "name": "Sentiment_Based_Product_Recommendation_System_08_10_2021.ipynb",
   "provenance": []
  },
  "kernelspec": {
   "display_name": "tf_env",
   "language": "python",
   "name": "tf_env"
  },
  "language_info": {
   "codemirror_mode": {
    "name": "ipython",
    "version": 3
   },
   "file_extension": ".py",
   "mimetype": "text/x-python",
   "name": "python",
   "nbconvert_exporter": "python",
   "pygments_lexer": "ipython3",
   "version": "3.8.5"
  }
 },
 "nbformat": 4,
 "nbformat_minor": 5
}
